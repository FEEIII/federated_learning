{
 "cells": [
  {
   "cell_type": "code",
   "execution_count": null,
   "id": "d8549be9",
   "metadata": {
    "id": "ppyP4SV6sDz6"
   },
   "outputs": [],
   "source": [
    "import numpy as np\n",
    "import pandas as pd\n",
    "import tensorflow as tf\n",
    "from tensorflow import keras\n",
    "import matplotlib.pyplot as plt\n",
    "from sklearn.model_selection import train_test_split\n",
    "from sklearn.metrics import confusion_matrix, ConfusionMatrixDisplay\n",
    "from sklearn.metrics import accuracy_score\n",
    "from sklearn.metrics import classification_report\n",
    "\n",
    "pd.set_option('display.max_rows',28*28)\n",
    "pd.set_option('display.max_columns',28*28)\n"
   ]
  },
  {
   "cell_type": "markdown",
   "id": "27fef6ec",
   "metadata": {},
   "source": [
    "# Setup"
   ]
  },
  {
   "cell_type": "markdown",
   "id": "f91c32f8",
   "metadata": {
    "id": "UkRKqJk9sDz8"
   },
   "source": [
    "## Data loading, preprocessing, and exploration\n"
   ]
  },
  {
   "cell_type": "code",
   "execution_count": null,
   "id": "42cf8e78",
   "metadata": {
    "code_folding": [],
    "colab": {
     "base_uri": "https://localhost:8080/"
    },
    "id": "I1S6Q2oasDz9",
    "outputId": "93aebdfa-45d1-4185-d19f-f99ae1698327"
   },
   "outputs": [],
   "source": [
    "# Load the MNIST dataset training and test sets as numpy arrays\n",
    "\n",
    "#renamed X_train_full and y_train_full for consistency\n",
    "(X_train, y_train), (X_test, y_test) = keras.datasets.mnist.load_data()\n",
    "assert X_train.shape == (60000, 28, 28)\n",
    "assert X_test.shape == (10000, 28, 28)\n",
    "assert y_train.shape == (60000,)\n",
    "assert y_test.shape == (10000,)\n"
   ]
  },
  {
   "cell_type": "markdown",
   "id": "b09ccd85",
   "metadata": {
    "id": "01HsA-j3sDz9"
   },
   "source": [
    "## Data Inspection"
   ]
  },
  {
   "cell_type": "code",
   "execution_count": null,
   "id": "71ee1053",
   "metadata": {
    "colab": {
     "base_uri": "https://localhost:8080/"
    },
    "id": "R9BKoXpEsDz-",
    "outputId": "346477e8-d18b-486d-dd8d-bec0ccfbe812"
   },
   "outputs": [],
   "source": [
    "print(\"Number of samples in training data:\", X_train.shape[0])\n",
    "print('Classes in training data:',np.unique(y_train))\n",
    "print(\"Dimensions of training data:\",(X_train.shape[1],X_train.shape[2]))\n",
    "print(\"Max and min pixel values:\", (X_train.max(), X_train.min()))\n"
   ]
  },
  {
   "cell_type": "code",
   "execution_count": null,
   "id": "4da11f85",
   "metadata": {
    "colab": {
     "base_uri": "https://localhost:8080/"
    },
    "id": "vBgRkjH7sDz-",
    "outputId": "ec7f6458-2ab6-4b62-df2c-93550ced85aa"
   },
   "outputs": [],
   "source": [
    "print('Classes' ,np.unique(y_train, return_counts=True)[0])\n",
    "print('Class distribution' ,np.unique(y_train, return_counts=True)[1])\n"
   ]
  },
  {
   "cell_type": "code",
   "execution_count": null,
   "id": "20c8536c",
   "metadata": {
    "colab": {
     "base_uri": "https://localhost:8080/"
    },
    "id": "ZubWC_C4sDz_",
    "outputId": "43194755-009e-4c04-e415-e358e5648106"
   },
   "outputs": [],
   "source": [
    "print(\"Number of samples in test data:\", X_test.shape[0])\n",
    "print('Classes in test data:',np.unique(y_test))\n",
    "print(\"Dimensions of test data:\",(X_test.shape[1],X_test.shape[2]))\n",
    "print(\"Max and min pixel values:\", (X_test.max(), X_test.min()))\n"
   ]
  },
  {
   "cell_type": "code",
   "execution_count": null,
   "id": "71dced06",
   "metadata": {
    "colab": {
     "base_uri": "https://localhost:8080/",
     "height": 501
    },
    "id": "AvxF7lO0sDz_",
    "outputId": "b57d2217-0e54-4ee5-9c92-05e29cbe3f24"
   },
   "outputs": [],
   "source": [
    "#ploting first 40 training samples \n",
    "class_dic = {k:v for k,v in enumerate(np.unique(y_train))}\n",
    "\n",
    "def plot_examples(data = X_train, labels = y_train, n_rows=4, n_cols=10):\n",
    "\n",
    "    plt.figure(figsize=(n_cols * 1.2, n_rows * 1.5))\n",
    "    \n",
    "    for row in range(n_rows):\n",
    "        for col in range(n_cols):\n",
    "            \n",
    "            # Get next index of image\n",
    "            index = n_cols * row + col\n",
    "            \n",
    "            # Plot the image at appropriate place in grid\n",
    "            plt.subplot(n_rows, n_cols, index + 1)\n",
    "            plt.imshow(data[index], cmap=\"binary\")\n",
    "            plt.title(class_dic[labels[index]], fontsize = 15)\n",
    "            plt.axis('off')\n",
    "            \n",
    "    plt.show()\n",
    "\n",
    "plot_examples()\n"
   ]
  },
  {
   "cell_type": "markdown",
   "id": "37eaf9c1",
   "metadata": {
    "id": "FopNuOcGsD0A"
   },
   "source": [
    "## Data Preprocessing"
   ]
  },
  {
   "cell_type": "code",
   "execution_count": null,
   "id": "54273771",
   "metadata": {
    "id": "GD5GTxtnsD0A"
   },
   "outputs": [],
   "source": [
    "X_train = X_train/255\n",
    "X_train = X_train.astype(float)\n",
    "\n",
    "X_test = X_test/255\n",
    "X_test = X_test.astype(float)"
   ]
  },
  {
   "cell_type": "code",
   "execution_count": null,
   "id": "d570c967",
   "metadata": {
    "id": "BNZPdw2xsD0A"
   },
   "outputs": [],
   "source": [
    "y_train = y_train.astype(int)\n",
    "y_test = y_test.astype(int)"
   ]
  },
  {
   "cell_type": "markdown",
   "id": "4437113c",
   "metadata": {
    "id": "75WwF4WusD0A"
   },
   "source": [
    "## Dividing the dataset - each client has data from two classes"
   ]
  },
  {
   "cell_type": "code",
   "execution_count": null,
   "id": "c65818f9",
   "metadata": {
    "id": "X8U_w_nssD0B"
   },
   "outputs": [],
   "source": [
    "def splitClientX():\n",
    "    X_train_clients = {}\n",
    "    for i in range(10):\n",
    "        idx = y_train == i\n",
    "        X_train_clients[i] = X_train[idx]\n",
    "    return X_train_clients\n",
    "\n",
    "def splitClienty():\n",
    "    y_train_clients = {}\n",
    "    for i in range(10):\n",
    "        idx = y_train == i\n",
    "        y_train_clients[i] = y_train[idx]\n",
    "    return y_train_clients"
   ]
  },
  {
   "cell_type": "code",
   "execution_count": null,
   "id": "accac11b",
   "metadata": {
    "id": "_SFv7s4KsD0B"
   },
   "outputs": [],
   "source": [
    "X_train_divided = splitClientX()\n",
    "y_train_divided = splitClienty()"
   ]
  },
  {
   "cell_type": "code",
   "execution_count": null,
   "id": "065bfb30",
   "metadata": {},
   "outputs": [],
   "source": [
    "#Creating client X data dictionary\n",
    "X_train_clients = {}\n",
    "firstHalf0 = X_train_divided[0][:len(X_train_divided[0])//2]\n",
    "secondHalf0 = X_train_divided[9][len(X_train_divided[9])//2:]\n",
    "X_train_clients[0] = np.concatenate((firstHalf0,secondHalf0))\n",
    "\n",
    "for i in range(1, 10):\n",
    "    firstHalf = X_train_divided[i][:len(X_train_divided[i])//2]\n",
    "    secondHalf = X_train_divided[i-1][len(X_train_divided[i-1])//2:]\n",
    "    X_train_clients[i] = np.concatenate((firstHalf,secondHalf))\n",
    "\n",
    "\n",
    "# Checking if total training samples = 60000\n",
    "n = 0\n",
    "for i in X_train_clients:\n",
    "    print(X_train_clients[i].shape)\n",
    "    n+=len(X_train_clients[i])\n",
    "print(\"Total training samples:\", n)"
   ]
  },
  {
   "cell_type": "code",
   "execution_count": null,
   "id": "c16785e3",
   "metadata": {},
   "outputs": [],
   "source": [
    "#Creating client y data dictionary\n",
    "y_train_clients = {}\n",
    "firstHalf0y = y_train_divided[0][:len(y_train_divided[0])//2]\n",
    "secondHalf0y = y_train_divided[9][len(y_train_divided[9])//2:]\n",
    "y_train_clients[0] = np.concatenate((firstHalf0y,secondHalf0y))\n",
    "\n",
    "for i in range(1, 10):\n",
    "    firstHalf = y_train_divided[i][:len(y_train_divided[i])//2]\n",
    "    secondHalf = y_train_divided[i-1][len(y_train_divided[i-1])//2:]\n",
    "    y_train_clients[i] = np.concatenate((firstHalf,secondHalf))\n",
    "\n",
    "\n",
    "# Checking client class distribution\n",
    "n = 0\n",
    "for i in y_train_clients:\n",
    "    print(f'Client {n} class distribution:', np.unique(y_train_clients[i]))\n",
    "    n+=1"
   ]
  },
  {
   "cell_type": "code",
   "execution_count": null,
   "id": "ce538833",
   "metadata": {
    "id": "DB-zNE7ksD0B"
   },
   "outputs": [],
   "source": [
    "# Printing client image with label\n",
    "def printClient(client_number):\n",
    "    \n",
    "    for i in range(len(X_train_clients[client_number])):\n",
    "        plt.figure()\n",
    "        plt.imshow(X_train_clients[client_number][i],cmap = 'binary')\n",
    "        plt.title(y_train_clients[client_number][i],fontsize = 15)\n",
    "        plt.axis('off')\n",
    "        plt.show()\n",
    "        \n"
   ]
  },
  {
   "cell_type": "markdown",
   "id": "284a0fc4",
   "metadata": {
    "id": "uLG56X54sD0B"
   },
   "source": [
    "## CNN model setup"
   ]
  },
  {
   "cell_type": "code",
   "execution_count": null,
   "id": "361b558c",
   "metadata": {
    "colab": {
     "base_uri": "https://localhost:8080/"
    },
    "id": "CVNrUZLcsD0C",
    "outputId": "e64393cf-16db-48bb-b73e-e05113db265b"
   },
   "outputs": [],
   "source": [
    "#transforming shape of data for CNN\n",
    "X_train_cnn = np.expand_dims(X_train, -1)\n",
    "X_train_clients_cnn = {k:np.expand_dims(v, -1) for (k,v) in X_train_clients.items()}\n",
    "\n",
    "for client in X_train_clients_cnn:\n",
    "    print('Shape of client {} data: '.format(client), X_train_clients_cnn[client].shape)"
   ]
  },
  {
   "cell_type": "code",
   "execution_count": null,
   "id": "fb073500",
   "metadata": {
    "id": "RMcIgM6ksD0C"
   },
   "outputs": [],
   "source": [
    "tf.random.set_seed(1)\n",
    "keras.backend.clear_session()\n"
   ]
  },
  {
   "cell_type": "markdown",
   "id": "199fd866",
   "metadata": {},
   "source": [
    "# Defining functions"
   ]
  },
  {
   "cell_type": "markdown",
   "id": "1740e38f",
   "metadata": {
    "id": "aRjC-eE9sD0D"
   },
   "source": [
    "## Initialising CNN models with learning rate"
   ]
  },
  {
   "cell_type": "code",
   "execution_count": null,
   "id": "5b675366",
   "metadata": {
    "id": "jvbNryt4sD0D"
   },
   "outputs": [],
   "source": [
    "\n",
    "def initialiseCNN(lr= 0.125):\n",
    "    model = keras.Sequential([\n",
    "    \n",
    "    keras.Input(shape=(28, 28, 1)),\n",
    "    \n",
    "    keras.layers.Conv2D(32, kernel_size=(5, 5), padding = 'same', activation=\"relu\"),\n",
    "    keras.layers.MaxPooling2D(pool_size=(2, 2), padding = 'same'),\n",
    "    \n",
    "    keras.layers.Conv2D(64, kernel_size=(5, 5), padding = 'same',activation=\"relu\"),\n",
    "    keras.layers.MaxPooling2D(pool_size=(2, 2), padding = 'same'),\n",
    "    \n",
    "    keras.layers.Flatten(),\n",
    "    keras.layers.Dense(units=512, activation='relu'),\n",
    "    keras.layers.Dense(10, activation=\"softmax\"),\n",
    "])\n",
    "    \n",
    "    model.compile(loss='sparse_categorical_crossentropy',\n",
    "              optimizer=keras.optimizers.SGD(learning_rate=lr),\n",
    "              metrics=['accuracy'])\n",
    "    \n",
    "    return model"
   ]
  },
  {
   "cell_type": "markdown",
   "id": "ffed9bb0",
   "metadata": {
    "id": "HRvadgWMsD0D"
   },
   "source": [
    "## Calculating model accuracy"
   ]
  },
  {
   "cell_type": "code",
   "execution_count": null,
   "id": "e1597634",
   "metadata": {
    "id": "gsuC8q_OsD0D"
   },
   "outputs": [],
   "source": [
    "# examine accuracy before training\n",
    "def modelAccuracy(model):\n",
    "    prob = model.predict(X_test)\n",
    "    pred = np.argmax(prob, axis=-1)\n",
    "\n",
    "    print(\"Model can predict classes: \", np.unique(pred))\n",
    "    print(\"Model accuracy: {}\".format(accuracy_score(y_test, pred)),\n",
    "          \"\\n-------------------------------------------------------------\")\n",
    "    \n",
    "    return accuracy_score(y_test, pred)"
   ]
  },
  {
   "cell_type": "markdown",
   "id": "f05b05a7",
   "metadata": {
    "id": "G_3nSoLysD0E"
   },
   "source": [
    "## Defining train client function"
   ]
  },
  {
   "cell_type": "code",
   "execution_count": null,
   "id": "f2e4fc45",
   "metadata": {
    "id": "ucG1EuPnsD0E"
   },
   "outputs": [],
   "source": [
    "def trainClient(client_number, models, batch_size = 10, epochs = 5):\n",
    "\n",
    "    print(\"Training client \", str(client_number))\n",
    "    models[client_number].fit(X_train_clients_cnn[client_number], y_train_clients[client_number], \n",
    "                                     batch_size=batch_size,epochs=epochs)"
   ]
  },
  {
   "cell_type": "markdown",
   "id": "1fd0a5e3",
   "metadata": {
    "id": "auIyUddOsD0H"
   },
   "source": [
    "## Defining the aggregation function"
   ]
  },
  {
   "cell_type": "code",
   "execution_count": null,
   "id": "8a10b861",
   "metadata": {
    "id": "RmWb7lKNsD0H"
   },
   "outputs": [],
   "source": [
    "def aggregateModel(models, global_model, client_importance):\n",
    "    client_model_weights = []\n",
    "    for client_number in participatingClients:\n",
    "        client_model_weights.append(np.array(client_models[client_number].get_weights(), dtype = object))\n",
    "    \n",
    "    client_model_weighted_weights = [x*y for x,y in zip(client_model_weights,client_importance)]\n",
    "    global_weights = sum(client_model_weighted_weights)\n",
    "    \n",
    "    for i in range(10):\n",
    "        models[i].set_weights(global_weights)\n",
    "        \n",
    "    global_model.set_weights(global_weights)\n",
    "\n"
   ]
  },
  {
   "cell_type": "markdown",
   "id": "90551d9a",
   "metadata": {},
   "source": [
    "##  C parameter"
   ]
  },
  {
   "cell_type": "code",
   "execution_count": null,
   "id": "acffe26b",
   "metadata": {},
   "outputs": [],
   "source": [
    "import random\n",
    "\n",
    "def selectClients(C=0.5):\n",
    "    participatingClients = []\n",
    "    clientPerRound = int(10*C)\n",
    "    while len(participatingClients) <clientPerRound:\n",
    "        newClient = random.randrange(10)\n",
    "        if newClient not in participatingClients:\n",
    "            participatingClients.append(newClient)\n",
    "    return participatingClients\n",
    "\n"
   ]
  },
  {
   "cell_type": "markdown",
   "id": "cde82884",
   "metadata": {
    "id": "pRZDxPXesD0G"
   },
   "source": [
    "## Assigning client importance"
   ]
  },
  {
   "cell_type": "code",
   "execution_count": null,
   "id": "b7fc8a59",
   "metadata": {
    "id": "JMPsDqe5sD0H"
   },
   "outputs": [],
   "source": [
    "def calculateClientImportance(participatingClients):\n",
    "    client_data_size = [len(X_train_clients[k]) for k in participatingClients]\n",
    "    client_importance = [x/sum(client_data_size) for x in client_data_size]\n",
    "    for x in zip(participatingClients, client_importance):\n",
    "        print(\"Client {} importance is {:.4f}\".format(x[0], x[1]))\n",
    "    return client_importance"
   ]
  },
  {
   "cell_type": "markdown",
   "id": "d21ac714",
   "metadata": {},
   "source": [
    "# <font color = 'red'>Training</font>"
   ]
  },
  {
   "cell_type": "code",
   "execution_count": null,
   "id": "d8993e26",
   "metadata": {},
   "outputs": [],
   "source": [
    "number_of_rounds = 100   #set to desired value\n",
    "C = 0.5                  #set to desired value\n",
    "lr = 0.125               #set to desired value\n",
    "\n",
    "global_model = initialiseCNN()\n",
    "\n",
    "client_models = {}\n",
    "for i in range(10):\n",
    "    client_models[i] = initialiseCNN(lr=lr) \n",
    "    \n",
    "global_accuracy = []\n",
    "\n",
    "for n in range(1, 1+number_of_rounds):\n",
    "    print('Communication round #{}'.format(n))\n",
    "    \n",
    "    participatingClients = selectClients(C)\n",
    "    print(f\"Clients participating in round {n}: \", participatingClients)\n",
    "\n",
    "    for i in participatingClients:\n",
    "        trainClient(i, models = client_models, epochs = 5)    \n",
    "    print('Client {} trained for round #{}'.format(i, n))\n",
    "    \n",
    "    clientImportance = calculateClientImportance(participatingClients)\n",
    "\n",
    "    aggregateModel(client_models, global_model, clientImportance)\n",
    "    print('Model aggregated for round #{}'.format(n))\n",
    "\n",
    "    print(\"Global model accuracy: \", modelAccuracy(global_model))\n",
    "    global_accuracy.append(modelAccuracy(global_model))"
   ]
  },
  {
   "cell_type": "code",
   "execution_count": null,
   "id": "afdfeddc",
   "metadata": {},
   "outputs": [],
   "source": [
    "# saving accuracy to csv\n",
    "\n",
    "import csv\n",
    " \n",
    "data =[[x] for x in global_accuracy]\n",
    "\n",
    "file = open('accuracy_federated_learning_10clients.csv', 'w+', newline ='')\n",
    " \n",
    "with file:\n",
    "    write = csv.writer(file)\n",
    "    write.writerows(data)"
   ]
  }
 ],
 "metadata": {
  "colab": {
   "provenance": [],
   "toc_visible": true
  },
  "gpuClass": "premium",
  "kernelspec": {
   "display_name": "Python 3",
   "language": "python",
   "name": "python3"
  },
  "language_info": {
   "codemirror_mode": {
    "name": "ipython",
    "version": 3
   },
   "file_extension": ".py",
   "mimetype": "text/x-python",
   "name": "python",
   "nbconvert_exporter": "python",
   "pygments_lexer": "ipython3",
   "version": "3.9.16"
  },
  "toc": {
   "base_numbering": 1,
   "nav_menu": {},
   "number_sections": false,
   "sideBar": true,
   "skip_h1_title": false,
   "title_cell": "Table of Contents",
   "title_sidebar": "Contents",
   "toc_cell": false,
   "toc_position": {
    "height": "calc(100% - 180px)",
    "left": "10px",
    "top": "150px",
    "width": "303.805px"
   },
   "toc_section_display": true,
   "toc_window_display": true
  }
 },
 "nbformat": 4,
 "nbformat_minor": 5
}
